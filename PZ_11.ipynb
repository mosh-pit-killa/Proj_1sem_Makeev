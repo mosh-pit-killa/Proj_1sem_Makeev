{
  "nbformat": 4,
  "nbformat_minor": 0,
  "metadata": {
    "colab": {
      "name": "Untitled0.ipynb",
      "provenance": [],
      "authorship_tag": "ABX9TyMKYmts8vzqpy0FDAhE9jvV",
      "include_colab_link": true
    },
    "kernelspec": {
      "name": "python3",
      "display_name": "Python 3"
    },
    "language_info": {
      "name": "python"
    }
  },
  "cells": [
    {
      "cell_type": "markdown",
      "metadata": {
        "id": "view-in-github",
        "colab_type": "text"
      },
      "source": [
        "<a href=\"https://colab.research.google.com/github/mosh-pit-killa/Proj_1sem_Makeev/blob/master/PZ_11.ipynb\" target=\"_parent\"><img src=\"https://colab.research.google.com/assets/colab-badge.svg\" alt=\"Open In Colab\"/></a>"
      ]
    },
    {
      "cell_type": "markdown",
      "source": [
        "ПЗ 3. Даны три целых числа: A, B, C. Проверить истинность высказывания: «Хотя бы одно из чисел A, B, C положительное»."
      ],
      "metadata": {
        "id": "q2_vLZAebchB"
      }
    },
    {
      "cell_type": "code",
      "execution_count": 1,
      "metadata": {
        "colab": {
          "base_uri": "https://localhost:8080/"
        },
        "id": "LYlwyAv9aRyq",
        "outputId": "c95417f8-7704-4a98-ae7b-26f2e59302a5"
      },
      "outputs": [
        {
          "output_type": "stream",
          "name": "stdout",
          "text": [
            "Введите целое число A: 3\n",
            "Введите целое число B: 2\n",
            "Введите целое число C: -1\n",
            "В ряде есть хотя бы одно положительнoе числo.\n"
          ]
        }
      ],
      "source": [
        "a = input(\"Введите целое число A: \")\n",
        "while type(a) != int:\n",
        "    try:\n",
        "        a = int(a)\n",
        "    except ValueError:\n",
        "        print('Введено не целое число!')\n",
        "        a = input('Введите целое число A: ')\n",
        "\n",
        "b = input('Введите целое число B: ')\n",
        "while type(b) != int:\n",
        "    try:\n",
        "        b = int(b)\n",
        "    except ValueError:\n",
        "        print('Введено не целое число!')\n",
        "        b = input('Введите целое число B: ')\n",
        "\n",
        "c = input('Введите целое число C: ')\n",
        "while type(c) != int:\n",
        "    try:\n",
        "        c = int(c)\n",
        "    except ValueError:\n",
        "        print('Введено не целое число!')\n",
        "        c = input('Введите целое число C: ')\n",
        "\n",
        "if a >= 0 or b >= 0 or c >= 0:\n",
        "    print('В ряде есть хотя бы одно положительнoе числo.')\n",
        "else:\n",
        "    print('В ряде нет положительных чисел')"
      ]
    },
    {
      "cell_type": "markdown",
      "source": [
        "ПЗ 4. Найти A в степени N"
      ],
      "metadata": {
        "id": "JmlCjcr0b31-"
      }
    },
    {
      "cell_type": "code",
      "source": [
        "A = input('Введите вещественное число: ')\n",
        "while type(A) != float:\n",
        "    try:\n",
        "        A = float(A)\n",
        "    except ValueError:\n",
        "        print('Введено не вещественное число!')\n",
        "        A = input('Введите вещественное число: ')\n",
        "\n",
        "N = input('Введите целую положительную степень: ')\n",
        "while type(N) != int:\n",
        "    try:\n",
        "        N = int(N)\n",
        "    except ValueError:\n",
        "        print('Введена не целая положительная степень!')\n",
        "        N = input('Введите целую положительную степень: ')\n",
        "\n",
        "if N > 0:\n",
        "    i = 0\n",
        "    while i < N:\n",
        "        i += 1\n",
        "        A = A ** N\n",
        "        print(A)\n",
        "else:\n",
        "    print('Число N < 0!')"
      ],
      "metadata": {
        "colab": {
          "base_uri": "https://localhost:8080/"
        },
        "id": "5wFzOVtZb3mG",
        "outputId": "9c2d6b90-1432-417d-fdb4-0f3148290172"
      },
      "execution_count": 7,
      "outputs": [
        {
          "output_type": "stream",
          "name": "stdout",
          "text": [
            "Введите вещественное число: 5\n",
            "Введите целую положительную степень: 3\n",
            "125.0\n",
            "1953125.0\n",
            "7.450580596923828e+18\n"
          ]
        }
      ]
    },
    {
      "cell_type": "markdown",
      "source": [
        "ПЗ 5. Найти сумму чисел ряда 1,2,3,...,60 с использованием функции нахождения суммы.\n",
        "Использовать локальные переменные."
      ],
      "metadata": {
        "id": "_I9BJ0uvcQgO"
      }
    },
    {
      "cell_type": "code",
      "source": [
        "def function_sum(a, b):\n",
        "    sum = 0\n",
        "    while a <= b:\n",
        "        sum = sum + a\n",
        "        a = a + 1\n",
        "    return sum\n",
        "a = float(input('Введите первое число: '))\n",
        "b = float(input('Введите последнее число: '))\n",
        "s = function_sum(a, b)\n",
        "print('Сумма ряда чисел: ', s)"
      ],
      "metadata": {
        "colab": {
          "base_uri": "https://localhost:8080/"
        },
        "id": "2oMe1kaKcQs2",
        "outputId": "89fb9dc7-ac70-4720-fb75-17a00afc4359"
      },
      "execution_count": 4,
      "outputs": [
        {
          "output_type": "stream",
          "name": "stdout",
          "text": [
            "Введите первое число: 1\n",
            "Введите последнее число: 60\n",
            "Сумма ряда чисел:  1830.0\n"
          ]
        }
      ]
    }
  ]
}